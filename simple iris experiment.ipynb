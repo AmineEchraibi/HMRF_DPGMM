{
 "cells": [
  {
   "cell_type": "code",
   "execution_count": 3,
   "metadata": {},
   "outputs": [],
   "source": [
    "from model import *\n",
    "from sklearn import mixture, cluster\n",
    "from sklearn.preprocessing import StandardScaler\n",
    "from sklearn.datasets import load_iris, load_digits, load_wine\n",
    "import warnings\n",
    "warnings.filterwarnings(\"ignore\")\n",
    "import random"
   ]
  },
  {
   "cell_type": "markdown",
   "metadata": {},
   "source": [
    "## UCI datasets exp"
   ]
  },
  {
   "cell_type": "code",
   "execution_count": 4,
   "metadata": {
    "scrolled": true
   },
   "outputs": [
    {
     "name": "stdout",
     "output_type": "stream",
     "text": [
      "Clustering accuracy with Bayesian GMM :  0.7866666666666666\n"
     ]
    }
   ],
   "source": [
    "# load Iris dataset \n",
    "iris = load_iris()\n",
    "\n",
    "X = iris.data\n",
    "y_true = iris.target\n",
    "K = np.unique(y_true).shape[0]\n",
    "X.shape\n",
    "\n",
    "# Clustering accuracy sklearn dpgmm\n",
    "dpgmm = mixture.BayesianGaussianMixture(n_components=10,\n",
    "                                        covariance_type='full').fit(X)\n",
    "y_pred = dpgmm.predict(X)\n",
    "acc_dpgmm = cluster_acc(y_pred, y_true.astype(np.int32))[0]\n",
    "print(\"Clustering accuracy with Bayesian GMM : \",  acc_dpgmm)"
   ]
  },
  {
   "cell_type": "code",
   "execution_count": 8,
   "metadata": {
    "scrolled": true
   },
   "outputs": [
    {
     "data": {
      "image/png": "[encoded data removed]",
      "text/plain": [
       "<Figure size 432x288 with 1 Axes>"
      ]
     },
     "metadata": {
      "needs_background": "light"
     },
     "output_type": "display_data"
    }
   ],
   "source": [
    "# semi supervised clustering of Iris 10 iteration of the algorithm (takes some time)\n",
    "percentages = [0, 0.1, 0.2, 0.3, 0.4, 0.5]\n",
    "from sklearn.utils import shuffle\n",
    "X,y_true = shuffle(X, y_true)\n",
    "acc = np.zeros((10,6))\n",
    "\n",
    "for i in range(10):\n",
    "    for j in range(len(percentages)):\n",
    "        per = percentages[j]\n",
    "        partial_labels = np.array([None] * len(y_true))\n",
    "        partial_labels[0:int(per * len(y_true))] = y_true[0:int(per * len(y_true))]\n",
    "\n",
    "\n",
    "        hmrf_gmm = HMRF_GMM(X, 10, partial_labels, lambda_=0.001, mode='complete', init=\"kmeans\")\n",
    "        L = hmrf_gmm.Inference(max_iter=500, debug=False)\n",
    "        y_pred = hmrf_gmm.infer_clusters()\n",
    "        acc[i, j] = cluster_acc(y_pred, y_true)[0]\n",
    "\n",
    "acc_iris = acc\n",
    "plt.errorbar(percentages, np.max(acc_iris,0), fmt='-o', color='red', label='iris')\n",
    "plt.legend(loc='lower right')\n",
    "plt.xlabel(\"% of labelisation\")\n",
    "plt.ylabel(\" ACC \")\n",
    "plt.grid()"
   ]
  },
  {
   "cell_type": "code",
   "execution_count": null,
   "metadata": {},
   "outputs": [],
   "source": []
  }
 ],
 "metadata": {
  "kernelspec": {
   "display_name": "Python 3",
   "language": "python",
   "name": "python3"
  }
 },
 "nbformat": 4,
 "nbformat_minor": 2
}
